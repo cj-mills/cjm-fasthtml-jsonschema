{
 "cells": [
  {
   "cell_type": "markdown",
   "id": "cd8f509d-8004-4d48-8d42-ba441e8a36eb",
   "metadata": {},
   "source": [
    "# parser\n",
    "\n",
    "> JSON Schema parsing utilities."
   ]
  },
  {
   "cell_type": "code",
   "execution_count": null,
   "id": "95db0591-2ffe-42be-9801-577e08b0d02a",
   "metadata": {},
   "outputs": [],
   "source": [
    "#| default_exp core.parser"
   ]
  },
  {
   "cell_type": "code",
   "execution_count": null,
   "id": "a4ccfc9f-fb79-41c4-ac4f-b45553a118f7",
   "metadata": {},
   "outputs": [],
   "source": [
    "#| hide\n",
    "from nbdev.showdoc import *"
   ]
  },
  {
   "cell_type": "code",
   "execution_count": null,
   "id": "89613b50-e4f3-4a98-aa16-0343961d087f",
   "metadata": {},
   "outputs": [],
   "source": [
    "#| export\n",
    "from typing import Dict, Any, List, Optional\n",
    "from cjm_fasthtml_jsonschema.core.types import SchemaProperty"
   ]
  },
  {
   "cell_type": "code",
   "execution_count": null,
   "id": "dd5226bc-fcb7-40f8-9bbe-4e7ca4e9c2d5",
   "metadata": {},
   "outputs": [],
   "source": [
    "#| export\n",
    "class SchemaParser:\n",
    "    \"\"\"Parse JSON Schema and extract property information.\"\"\"\n",
    "\n",
    "    def __init__(\n",
    "        self,\n",
    "        schema: Dict[str, Any]  # JSON Schema dictionary\n",
    "    ):\n",
    "        \"\"\"\n",
    "        Initialize parser with a JSON Schema.\n",
    "        \"\"\"\n",
    "        self.schema = schema\n",
    "        self.title = schema.get('title', 'Configuration')\n",
    "        self.description = schema.get('description')\n",
    "        self.required_fields = set(schema.get('required', []))\n",
    "        self.properties = self._parse_properties()\n",
    "\n",
    "    def _parse_properties(\n",
    "        self\n",
    "    ) -> List[SchemaProperty]:  # List of SchemaProperty objects\n",
    "        \"\"\"\n",
    "        Parse schema properties into SchemaProperty objects.\n",
    "        \"\"\"\n",
    "        properties = []\n",
    "        schema_props = self.schema.get('properties', {})\n",
    "\n",
    "        for name, prop_schema in schema_props.items():\n",
    "            prop = SchemaProperty(\n",
    "                name=name,\n",
    "                schema=prop_schema,\n",
    "                required=name in self.required_fields\n",
    "            )\n",
    "            properties.append(prop)\n",
    "\n",
    "        # Sort properties: required first, then alphabetically\n",
    "        properties.sort(key=lambda p: (not p.required, p.name))\n",
    "\n",
    "        return properties\n",
    "\n",
    "    def get_property(\n",
    "        self,\n",
    "        name: str  # Property name\n",
    "    ) -> Optional[SchemaProperty]:  # SchemaProperty object or None if not found\n",
    "        \"\"\"\n",
    "        Get a specific property by name.            \n",
    "        \"\"\"\n",
    "        for prop in self.properties:\n",
    "            if prop.name == name:\n",
    "                return prop\n",
    "        return None\n",
    "\n",
    "    def get_required_properties(\n",
    "        self\n",
    "    ) -> List[SchemaProperty]:  # TODO: Add return description\n",
    "        \"\"\"Get all required properties.\"\"\"\n",
    "        return [p for p in self.properties if p.required]\n",
    "\n",
    "    def get_optional_properties(\n",
    "        self\n",
    "    ) -> List[SchemaProperty]:  # TODO: Add return description\n",
    "        \"\"\"Get all optional properties.\"\"\"\n",
    "        return [p for p in self.properties if not p.required]"
   ]
  },
  {
   "cell_type": "code",
   "execution_count": null,
   "id": "d2e1834b-cb3b-41e6-bd38-3a98014e35cd",
   "metadata": {},
   "outputs": [],
   "source": []
  },
  {
   "cell_type": "code",
   "execution_count": null,
   "id": "b6683213-6978-459a-9fa6-94b49304b0e6",
   "metadata": {},
   "outputs": [],
   "source": []
  },
  {
   "cell_type": "code",
   "execution_count": null,
   "id": "dbbc10db-1eb6-4b29-bfdc-f077add0043c",
   "metadata": {},
   "outputs": [],
   "source": []
  },
  {
   "cell_type": "code",
   "execution_count": null,
   "id": "8e333af7-f106-4ba6-820e-4b2f2c1dadfa",
   "metadata": {},
   "outputs": [],
   "source": []
  },
  {
   "cell_type": "code",
   "execution_count": null,
   "id": "4b5dbc01-268c-426a-946b-0db6e3f52ae9",
   "metadata": {},
   "outputs": [],
   "source": []
  },
  {
   "cell_type": "code",
   "execution_count": null,
   "id": "dbd2228d-1c08-4c81-be69-eadf0126204b",
   "metadata": {},
   "outputs": [],
   "source": []
  },
  {
   "cell_type": "code",
   "execution_count": null,
   "id": "0f11627e-d569-4fc9-ad84-a09a3b74b95d",
   "metadata": {},
   "outputs": [],
   "source": []
  },
  {
   "cell_type": "code",
   "execution_count": null,
   "id": "a966ceac-4168-4b9e-9ca6-b27db51013e1",
   "metadata": {},
   "outputs": [],
   "source": []
  },
  {
   "cell_type": "code",
   "execution_count": null,
   "id": "a2f37679-14a3-47ed-86c1-97e96320e1fd",
   "metadata": {},
   "outputs": [],
   "source": [
    "#| hide\n",
    "import nbdev; nbdev.nbdev_export()"
   ]
  }
 ],
 "metadata": {
  "kernelspec": {
   "display_name": "python3",
   "language": "python",
   "name": "python3"
  }
 },
 "nbformat": 4,
 "nbformat_minor": 5
}
