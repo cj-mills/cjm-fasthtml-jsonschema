{
 "cells": [
  {
   "cell_type": "markdown",
   "id": "cd8f509d-8004-4d48-8d42-ba441e8a36eb",
   "metadata": {},
   "source": [
    "# types\n",
    "\n",
    "> Type definitions for JSON Schema elements."
   ]
  },
  {
   "cell_type": "code",
   "execution_count": null,
   "id": "95db0591-2ffe-42be-9801-577e08b0d02a",
   "metadata": {},
   "outputs": [],
   "source": [
    "#| default_exp core.types"
   ]
  },
  {
   "cell_type": "code",
   "execution_count": null,
   "id": "a4ccfc9f-fb79-41c4-ac4f-b45553a118f7",
   "metadata": {},
   "outputs": [],
   "source": [
    "#| hide\n",
    "from nbdev.showdoc import *"
   ]
  },
  {
   "cell_type": "code",
   "execution_count": null,
   "id": "89613b50-e4f3-4a98-aa16-0343961d087f",
   "metadata": {},
   "outputs": [],
   "source": [
    "#| export\n",
    "from typing import Dict, Any, List, Optional, Union\n",
    "from dataclasses import dataclass"
   ]
  },
  {
   "cell_type": "code",
   "execution_count": null,
   "id": "dd5226bc-fcb7-40f8-9bbe-4e7ca4e9c2d5",
   "metadata": {},
   "outputs": [],
   "source": [
    "#| export\n",
    "@dataclass\n",
    "class SchemaProperty:\n",
    "    \"\"\"Represents a single property in a JSON Schema.\"\"\"\n",
    "    name: str\n",
    "    schema: Dict[str, Any]\n",
    "    required: bool = False\n",
    "    value: Any = None\n",
    "\n",
    "    @property\n",
    "    def type(\n",
    "        self\n",
    "    ) -> str:  # TODO: Add return description\n",
    "        \"\"\"Get the property type.\"\"\"\n",
    "        prop_type = self.schema.get('type', 'string')\n",
    "        if isinstance(prop_type, list):\n",
    "            # Handle nullable types like [\"string\", \"null\"]\n",
    "            non_null_types = [t for t in prop_type if t != 'null']\n",
    "            return non_null_types[0] if non_null_types else 'string'\n",
    "        return prop_type\n",
    "\n",
    "    @property\n",
    "    def is_nullable(\n",
    "        self\n",
    "    ) -> bool:  # TODO: Add return description\n",
    "        \"\"\"Check if property allows null values.\"\"\"\n",
    "        prop_type = self.schema.get('type')\n",
    "        if isinstance(prop_type, list):\n",
    "            return 'null' in prop_type\n",
    "        return False\n",
    "\n",
    "    @property\n",
    "    def default(\n",
    "        self\n",
    "    ) -> Any:  # TODO: Add return description\n",
    "        \"\"\"Get default value if specified.\"\"\"\n",
    "        return self.schema.get('default')\n",
    "\n",
    "    @property\n",
    "    def description(\n",
    "        self\n",
    "    ) -> Optional[str]:  # TODO: Add return description\n",
    "        \"\"\"Get property description.\"\"\"\n",
    "        return self.schema.get('description')\n",
    "\n",
    "    @property\n",
    "    def enum_values(\n",
    "        self\n",
    "    ) -> Optional[List[Any]]:  # TODO: Add return description\n",
    "        \"\"\"Get enum values if property is an enum.\"\"\"\n",
    "        return self.schema.get('enum')\n",
    "\n",
    "    @property\n",
    "    def examples(\n",
    "        self\n",
    "    ) -> Optional[List[Any]]:  # TODO: Add return description\n",
    "        \"\"\"Get example values if provided.\"\"\"\n",
    "        return self.schema.get('examples')\n",
    "\n",
    "    @property\n",
    "    def minimum(\n",
    "        self\n",
    "    ) -> Optional[Union[int, float]]:  # TODO: Add return description\n",
    "        \"\"\"Get minimum value for numeric types.\"\"\"\n",
    "        return self.schema.get('minimum')\n",
    "\n",
    "    @property\n",
    "    def maximum(\n",
    "        self\n",
    "    ) -> Optional[Union[int, float]]:  # TODO: Add return description\n",
    "        \"\"\"Get maximum value for numeric types.\"\"\"\n",
    "        return self.schema.get('maximum')\n",
    "\n",
    "    @property\n",
    "    def min_length(\n",
    "        self\n",
    "    ) -> Optional[int]:  # TODO: Add return description\n",
    "        \"\"\"Get minimum length for string types.\"\"\"\n",
    "        return self.schema.get('minLength')\n",
    "\n",
    "    @property\n",
    "    def max_length(\n",
    "        self\n",
    "    ) -> Optional[int]:  # TODO: Add return description\n",
    "        \"\"\"Get maximum length for string types.\"\"\"\n",
    "        return self.schema.get('maxLength')\n",
    "\n",
    "    @property\n",
    "    def pattern(\n",
    "        self\n",
    "    ) -> Optional[str]:  # TODO: Add return description\n",
    "        \"\"\"Get regex pattern for string validation.\"\"\"\n",
    "        return self.schema.get('pattern')\n",
    "\n",
    "    @property\n",
    "    def format(\n",
    "        self\n",
    "    ) -> Optional[str]:  # TODO: Add return description\n",
    "        \"\"\"Get format hint (e.g., 'email', 'uri', 'date').\"\"\"\n",
    "        return self.schema.get('format')"
   ]
  },
  {
   "cell_type": "code",
   "execution_count": null,
   "id": "d2e1834b-cb3b-41e6-bd38-3a98014e35cd",
   "metadata": {},
   "outputs": [],
   "source": []
  },
  {
   "cell_type": "code",
   "execution_count": null,
   "id": "b6683213-6978-459a-9fa6-94b49304b0e6",
   "metadata": {},
   "outputs": [],
   "source": []
  },
  {
   "cell_type": "code",
   "execution_count": null,
   "id": "dbbc10db-1eb6-4b29-bfdc-f077add0043c",
   "metadata": {},
   "outputs": [],
   "source": []
  },
  {
   "cell_type": "code",
   "execution_count": null,
   "id": "8e333af7-f106-4ba6-820e-4b2f2c1dadfa",
   "metadata": {},
   "outputs": [],
   "source": []
  },
  {
   "cell_type": "code",
   "execution_count": null,
   "id": "0f11627e-d569-4fc9-ad84-a09a3b74b95d",
   "metadata": {},
   "outputs": [],
   "source": []
  },
  {
   "cell_type": "code",
   "execution_count": null,
   "id": "a966ceac-4168-4b9e-9ca6-b27db51013e1",
   "metadata": {},
   "outputs": [],
   "source": []
  },
  {
   "cell_type": "code",
   "execution_count": null,
   "id": "a2f37679-14a3-47ed-86c1-97e96320e1fd",
   "metadata": {},
   "outputs": [],
   "source": [
    "#| hide\n",
    "import nbdev; nbdev.nbdev_export()"
   ]
  }
 ],
 "metadata": {
  "kernelspec": {
   "display_name": "python3",
   "language": "python",
   "name": "python3"
  }
 },
 "nbformat": 4,
 "nbformat_minor": 5
}
